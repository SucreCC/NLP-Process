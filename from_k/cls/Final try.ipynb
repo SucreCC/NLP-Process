{
 "cells": [
  {
   "cell_type": "code",
   "execution_count": 35,
   "id": "22bc99c9-3108-4cec-841e-421db10bf09c",
   "metadata": {},
   "outputs": [],
   "source": [
    "import os\n",
    "import random\n",
    "from tqdm import tqdm\n",
    "import numpy as np\n",
    "import pandas as pd\n",
    "from sklearn.metrics import accuracy_score\n",
    "from sklearn.model_selection import train_test_split\n",
    "import torch\n",
    "from torch import nn\n",
    "from torch.optim import AdamW\n",
    "from torch.cuda.amp import autocast, GradScaler\n",
    "from torch.utils.data import Dataset, DataLoader\n",
    "from transformers import AutoTokenizer, AutoModel, AutoConfig\n",
    "from transformers import get_linear_schedule_with_warmup\n",
    "import warnings\n",
    "warnings.filterwarnings('ignore')\n",
    "warnings.simplefilter(action='ignore', category=FutureWarning)\n",
    "os.environ['TOKENIZERS_PARALLELISM'] = 'false'\n"
   ]
  },
  {
   "cell_type": "markdown",
   "id": "873d4e73-af7f-40e5-963b-92a5b6f522cb",
   "metadata": {},
   "source": [
    "## 数据清洗"
   ]
  },
  {
   "cell_type": "code",
   "execution_count": 2,
   "id": "997c04e7-cedd-4140-b154-6cf5be06020c",
   "metadata": {},
   "outputs": [
    {
     "data": {
      "text/html": [
       "<div>\n",
       "<style scoped>\n",
       "    .dataframe tbody tr th:only-of-type {\n",
       "        vertical-align: middle;\n",
       "    }\n",
       "\n",
       "    .dataframe tbody tr th {\n",
       "        vertical-align: top;\n",
       "    }\n",
       "\n",
       "    .dataframe thead th {\n",
       "        text-align: right;\n",
       "    }\n",
       "</style>\n",
       "<table border=\"1\" class=\"dataframe\">\n",
       "  <thead>\n",
       "    <tr style=\"text-align: right;\">\n",
       "      <th></th>\n",
       "      <th>才用就发现相机打开迟钝，半天反应不过来，有时候还会卡出去，他们又不给解决方案。</th>\n",
       "      <th>Unnamed: 1</th>\n",
       "      <th>0</th>\n",
       "    </tr>\n",
       "  </thead>\n",
       "  <tbody>\n",
       "    <tr>\n",
       "      <th>0</th>\n",
       "      <td>还没穿二天就起毛了</td>\n",
       "      <td>NaN</td>\n",
       "      <td>0</td>\n",
       "    </tr>\n",
       "    <tr>\n",
       "      <th>1</th>\n",
       "      <td>坑呢！能教我怎样将双卡和内存卡一起装进去吗？如果不能，说什么支持双卡和SD?-</td>\n",
       "      <td>NaN</td>\n",
       "      <td>0</td>\n",
       "    </tr>\n",
       "    <tr>\n",
       "      <th>2</th>\n",
       "      <td>诺基亚手机做工质量太差，后壳太垃圾没用几天就掉漆了，为毛要用金属材质，为啥不用陶瓷材质后壳呀...</td>\n",
       "      <td>NaN</td>\n",
       "      <td>0</td>\n",
       "    </tr>\n",
       "    <tr>\n",
       "      <th>3</th>\n",
       "      <td>整体的感觉还是不错的，，，，，</td>\n",
       "      <td>NaN</td>\n",
       "      <td>1</td>\n",
       "    </tr>\n",
       "    <tr>\n",
       "      <th>4</th>\n",
       "      <td>非常不满意京东的售后服务，买之前联系客服说由于公司新开，公司增值税发票的开票信息还没出来，要...</td>\n",
       "      <td>NaN</td>\n",
       "      <td>0</td>\n",
       "    </tr>\n",
       "  </tbody>\n",
       "</table>\n",
       "</div>"
      ],
      "text/plain": [
       "             才用就发现相机打开迟钝，半天反应不过来，有时候还会卡出去，他们又不给解决方案。  Unnamed: 1  0\n",
       "0                                          还没穿二天就起毛了         NaN  0\n",
       "1            坑呢！能教我怎样将双卡和内存卡一起装进去吗？如果不能，说什么支持双卡和SD?-         NaN  0\n",
       "2  诺基亚手机做工质量太差，后壳太垃圾没用几天就掉漆了，为毛要用金属材质，为啥不用陶瓷材质后壳呀...         NaN  0\n",
       "3                                    整体的感觉还是不错的，，，，，         NaN  1\n",
       "4  非常不满意京东的售后服务，买之前联系客服说由于公司新开，公司增值税发票的开票信息还没出来，要...         NaN  0"
      ]
     },
     "execution_count": 2,
     "metadata": {},
     "output_type": "execute_result"
    }
   ],
   "source": [
    "# 读取文本数据\n",
    "file_path = 'goods_zh.txt'  \n",
    "df = pd.read_csv(file_path)  \n",
    "df.head()"
   ]
  },
  {
   "cell_type": "markdown",
   "id": "4300bbdd-9e46-4978-a384-2eabb5fc7e8e",
   "metadata": {},
   "source": [
    "**通过初步观察可以发现：**\n",
    "\n",
    "1. 数据集本身没有标题\n",
    "2. Unnamed列可能代表着发出此评价的用户名，数据内容是NaN，说明这是多余的\n",
    "3. 最后一列是label：0代表着负面，1代表着正面\n",
    "\n",
    "接下来要进行数据集的清洗"
   ]
  },
  {
   "cell_type": "code",
   "execution_count": 3,
   "id": "4896ef73-9978-4a09-85ea-ed70f4b7bbbc",
   "metadata": {},
   "outputs": [],
   "source": [
    "#删除多余列\n",
    "df = df.dropna(axis=1, how='all')  # 删除所有值为 NaN 的列\n",
    "\n",
    "df.columns = ['Review', 'Label']  # 为已有的 DataFrame 设置新的列名"
   ]
  },
  {
   "cell_type": "code",
   "execution_count": 4,
   "id": "6cf87690-a891-464a-84fa-04ef2edeaf7a",
   "metadata": {},
   "outputs": [
    {
     "data": {
      "text/html": [
       "<div>\n",
       "<style scoped>\n",
       "    .dataframe tbody tr th:only-of-type {\n",
       "        vertical-align: middle;\n",
       "    }\n",
       "\n",
       "    .dataframe tbody tr th {\n",
       "        vertical-align: top;\n",
       "    }\n",
       "\n",
       "    .dataframe thead th {\n",
       "        text-align: right;\n",
       "    }\n",
       "</style>\n",
       "<table border=\"1\" class=\"dataframe\">\n",
       "  <thead>\n",
       "    <tr style=\"text-align: right;\">\n",
       "      <th></th>\n",
       "      <th>Review</th>\n",
       "      <th>Label</th>\n",
       "    </tr>\n",
       "  </thead>\n",
       "  <tbody>\n",
       "    <tr>\n",
       "      <th>0</th>\n",
       "      <td>还没穿二天就起毛了</td>\n",
       "      <td>0</td>\n",
       "    </tr>\n",
       "    <tr>\n",
       "      <th>1</th>\n",
       "      <td>坑呢！能教我怎样将双卡和内存卡一起装进去吗？如果不能，说什么支持双卡和SD?-</td>\n",
       "      <td>0</td>\n",
       "    </tr>\n",
       "    <tr>\n",
       "      <th>2</th>\n",
       "      <td>诺基亚手机做工质量太差，后壳太垃圾没用几天就掉漆了，为毛要用金属材质，为啥不用陶瓷材质后壳呀...</td>\n",
       "      <td>0</td>\n",
       "    </tr>\n",
       "    <tr>\n",
       "      <th>3</th>\n",
       "      <td>整体的感觉还是不错的，，，，，</td>\n",
       "      <td>1</td>\n",
       "    </tr>\n",
       "    <tr>\n",
       "      <th>4</th>\n",
       "      <td>非常不满意京东的售后服务，买之前联系客服说由于公司新开，公司增值税发票的开票信息还没出来，要...</td>\n",
       "      <td>0</td>\n",
       "    </tr>\n",
       "  </tbody>\n",
       "</table>\n",
       "</div>"
      ],
      "text/plain": [
       "                                              Review  Label\n",
       "0                                          还没穿二天就起毛了      0\n",
       "1            坑呢！能教我怎样将双卡和内存卡一起装进去吗？如果不能，说什么支持双卡和SD?-      0\n",
       "2  诺基亚手机做工质量太差，后壳太垃圾没用几天就掉漆了，为毛要用金属材质，为啥不用陶瓷材质后壳呀...      0\n",
       "3                                    整体的感觉还是不错的，，，，，      1\n",
       "4  非常不满意京东的售后服务，买之前联系客服说由于公司新开，公司增值税发票的开票信息还没出来，要...      0"
      ]
     },
     "execution_count": 4,
     "metadata": {},
     "output_type": "execute_result"
    }
   ],
   "source": [
    "df.head()\n"
   ]
  },
  {
   "cell_type": "code",
   "execution_count": 5,
   "id": "55d89eb3-69ef-4e1d-bafe-55dd0d80edbb",
   "metadata": {},
   "outputs": [
    {
     "name": "stdout",
     "output_type": "stream",
     "text": [
      "Review    1\n",
      "Label     0\n",
      "dtype: int64\n"
     ]
    }
   ],
   "source": [
    "# 检查是否有缺失值\n",
    "print(df.isnull().sum())"
   ]
  },
  {
   "cell_type": "code",
   "execution_count": 6,
   "id": "5de239b6-9fa7-4d95-989e-7c2f0dac0ac4",
   "metadata": {},
   "outputs": [
    {
     "name": "stdout",
     "output_type": "stream",
     "text": [
      "清理后缺失值数量: 0\n"
     ]
    }
   ],
   "source": [
    "# 删除含有缺失值的行\n",
    "df = df.dropna(subset=['Review'])\n",
    "\n",
    "# 重置索引\n",
    "df = df.reset_index(drop=True)\n",
    "\n",
    "# 再次检查是否还有缺失值\n",
    "print(\"清理后缺失值数量:\", df['Review'].isnull().sum())"
   ]
  },
  {
   "cell_type": "code",
   "execution_count": 7,
   "id": "856d7901-1178-448b-9127-7726956234e1",
   "metadata": {},
   "outputs": [
    {
     "data": {
      "text/html": [
       "<div>\n",
       "<style scoped>\n",
       "    .dataframe tbody tr th:only-of-type {\n",
       "        vertical-align: middle;\n",
       "    }\n",
       "\n",
       "    .dataframe tbody tr th {\n",
       "        vertical-align: top;\n",
       "    }\n",
       "\n",
       "    .dataframe thead th {\n",
       "        text-align: right;\n",
       "    }\n",
       "</style>\n",
       "<table border=\"1\" class=\"dataframe\">\n",
       "  <thead>\n",
       "    <tr style=\"text-align: right;\">\n",
       "      <th></th>\n",
       "      <th>Review</th>\n",
       "      <th>Label</th>\n",
       "    </tr>\n",
       "  </thead>\n",
       "  <tbody>\n",
       "    <tr>\n",
       "      <th>40899</th>\n",
       "      <td>老爸很喜欢不错，值得拥有</td>\n",
       "      <td>1</td>\n",
       "    </tr>\n",
       "    <tr>\n",
       "      <th>44543</th>\n",
       "      <td>一直在京東买三星手機，相信京東</td>\n",
       "      <td>1</td>\n",
       "    </tr>\n",
       "    <tr>\n",
       "      <th>70789</th>\n",
       "      <td>送给客户的，还不错，挺好看</td>\n",
       "      <td>1</td>\n",
       "    </tr>\n",
       "    <tr>\n",
       "      <th>807</th>\n",
       "      <td>喜欢了就买了，衣服收到了，打开看了一下，还不错呢，绝对是正品。</td>\n",
       "      <td>1</td>\n",
       "    </tr>\n",
       "    <tr>\n",
       "      <th>37949</th>\n",
       "      <td>还满意，就是不知道为什么老是出广告，有点麻烦，玩普通游戏不卡，就是没有主机玩吃鸡会卡。快递很...</td>\n",
       "      <td>1</td>\n",
       "    </tr>\n",
       "    <tr>\n",
       "      <th>86966</th>\n",
       "      <td>手机外音输入有问题  用微信语音聊天时很大的杂音  换了一个手机也是这样  重新下载微信  ...</td>\n",
       "      <td>0</td>\n",
       "    </tr>\n",
       "    <tr>\n",
       "      <th>5901</th>\n",
       "      <td>很漂亮，叔叔穿着挺满意的。。他说下次再买双三节头的</td>\n",
       "      <td>1</td>\n",
       "    </tr>\n",
       "    <tr>\n",
       "      <th>72227</th>\n",
       "      <td>在京东上买手机比较放心，已经用了，还不错。</td>\n",
       "      <td>1</td>\n",
       "    </tr>\n",
       "    <tr>\n",
       "      <th>43490</th>\n",
       "      <td>手机玩游戏的时候电话进来就会卡死掉，手机铃声设置完了自己还会换回自带铃音真无语了</td>\n",
       "      <td>0</td>\n",
       "    </tr>\n",
       "    <tr>\n",
       "      <th>30386</th>\n",
       "      <td>质量很好，面料舒服</td>\n",
       "      <td>1</td>\n",
       "    </tr>\n",
       "  </tbody>\n",
       "</table>\n",
       "</div>"
      ],
      "text/plain": [
       "                                                  Review  Label\n",
       "40899                                       老爸很喜欢不错，值得拥有      1\n",
       "44543                                    一直在京東买三星手機，相信京東      1\n",
       "70789                                      送给客户的，还不错，挺好看      1\n",
       "807                      喜欢了就买了，衣服收到了，打开看了一下，还不错呢，绝对是正品。      1\n",
       "37949  还满意，就是不知道为什么老是出广告，有点麻烦，玩普通游戏不卡，就是没有主机玩吃鸡会卡。快递很...      1\n",
       "86966  手机外音输入有问题  用微信语音聊天时很大的杂音  换了一个手机也是这样  重新下载微信  ...      0\n",
       "5901                           很漂亮，叔叔穿着挺满意的。。他说下次再买双三节头的      1\n",
       "72227                              在京东上买手机比较放心，已经用了，还不错。      1\n",
       "43490           手机玩游戏的时候电话进来就会卡死掉，手机铃声设置完了自己还会换回自带铃音真无语了      0\n",
       "30386                                          质量很好，面料舒服      1"
      ]
     },
     "execution_count": 7,
     "metadata": {},
     "output_type": "execute_result"
    }
   ],
   "source": [
    "#随机检查一些评论和标签，确保标签符合实际语义\n",
    "df.sample(10)"
   ]
  },
  {
   "cell_type": "code",
   "execution_count": 8,
   "id": "b130c0a9-3a26-40b1-bde9-29bb499eda37",
   "metadata": {},
   "outputs": [
    {
     "name": "stdout",
     "output_type": "stream",
     "text": [
      "Index(['Review', 'Label'], dtype='object')\n",
      "(101056, 2)\n"
     ]
    }
   ],
   "source": [
    "#打印列名\n",
    "print(df.columns)\n",
    "\n",
    "# 检查数据集大小\n",
    "print(df.shape)"
   ]
  },
  {
   "cell_type": "code",
   "execution_count": 9,
   "id": "97bc0a27-e2c6-41bc-b9e3-3ebedcf48330",
   "metadata": {},
   "outputs": [
    {
     "name": "stdout",
     "output_type": "stream",
     "text": [
      "Label\n",
      "0    50556\n",
      "1    50500\n",
      "Name: count, dtype: int64\n"
     ]
    },
    {
     "data": {
      "image/png": "[encoded data removed]",
      "text/plain": [
       "<Figure size 800x600 with 1 Axes>"
      ]
     },
     "metadata": {},
     "output_type": "display_data"
    }
   ],
   "source": [
    "# 检查标签分布\n",
    "print(df['Label'].value_counts())\n",
    "\n",
    "# 画出标签分布的柱状图\n",
    "plt.figure(figsize=(8, 6)) \n",
    "sns.set_style('whitegrid') \n",
    "sns.set_palette('pastel')  \n",
    "ax = sns.countplot(x='Label', data=df)\n",
    "\n",
    "# 在柱子上显示计数\n",
    "for p in ax.patches:\n",
    "    ax.annotate(f'{int(p.get_height())}', (p.get_x() + p.get_width() / 2., p.get_height()),\n",
    "                ha='center', va='baseline', fontsize=12, color='black', xytext=(0, 5), textcoords='offset points')\n",
    "\n",
    "# 添加标题和标签\n",
    "plt.xlabel('Review Label', fontsize=12)\n",
    "plt.ylabel('Count', fontsize=12)\n",
    "plt.title('Distribution of Review Labels', fontsize=16)\n",
    "plt.xticks(fontsize=10)\n",
    "plt.yticks(fontsize=10)\n",
    "plt.show()"
   ]
  },
  {
   "cell_type": "markdown",
   "id": "b2047ced-e760-48cb-9220-28090fc5afbc",
   "metadata": {},
   "source": [
    "至此，得到了一个较为干净整洁的数据集。数据分布也很均匀。可以继续数据处理了。"
   ]
  },
  {
   "cell_type": "markdown",
   "id": "e89a6fcc-c124-4285-8f2a-6a8cac0a5ccf",
   "metadata": {},
   "source": [
    "## 数据处理"
   ]
  },
  {
   "cell_type": "code",
   "execution_count": 36,
   "id": "3091cc51-26f9-43bc-8fe8-4569af645d53",
   "metadata": {},
   "outputs": [],
   "source": [
    "# 自定义模型\n",
    "class CustomModel(nn.Module):\n",
    "    def __init__(self, model_path):\n",
    "        super(CustomModel, self).__init__()\n",
    "        # 加载预训练模型\n",
    "        self.model = AutoModel.from_pretrained(model_path)\n",
    "        # 分类头\n",
    "        self.fc = nn.Linear(768, 1)\n",
    "        self.dropout1 = nn.Dropout(0.1)\n",
    "\n",
    "    def forward(self, ids, mask):\n",
    "        x = self.model(ids, mask)[0]\n",
    "        x = self.dropout1(x)\n",
    "        x = self.fc(x[:, 0, :])\n",
    "        return x\n",
    "\n",
    "\n",
    "class CustomDataset(Dataset):\n",
    "    def __init__(self, df, tokenizer, max_len):\n",
    "        super(CustomDataset).__init__()\n",
    "        self.df = df\n",
    "        self.tokenizer = tokenizer\n",
    "        self.max_len = max_len\n",
    "\n",
    "    def __getitem__(self, index):\n",
    "        row = self.df.iloc[index]\n",
    "\n",
    "        inputs = self.tokenizer.encode_plus(\n",
    "            row.text,\n",
    "            add_special_tokens=True,\n",
    "            max_length=self.max_len,\n",
    "            padding='max_length',\n",
    "            pad_to_max_length=True,\n",
    "            return_token_type_ids=True,\n",
    "            truncation=True\n",
    "        )\n",
    "\n",
    "        ids = inputs['input_ids']\n",
    "        mask = inputs['attention_mask']\n",
    "\n",
    "        ids = torch.LongTensor(ids)\n",
    "        mask = torch.LongTensor(mask)\n",
    "\n",
    "        label = torch.FloatTensor([row.label])\n",
    "        return ids, mask, label\n",
    "\n",
    "    def __len__(self):\n",
    "        return self.df.shape[0]\n",
    "\n",
    "\n",
    "class AverageMeter(object):\n",
    "    def __init__(self):\n",
    "        self.reset()\n",
    "\n",
    "    def reset(self):\n",
    "        self.val = 0\n",
    "        self.avg = 0\n",
    "        self.sum = 0\n",
    "        self.count = 0\n",
    "\n",
    "    def update(self, val, n=1):\n",
    "        self.val = val\n",
    "        self.sum += val * n\n",
    "        self.count += n\n",
    "        self.avg = self.sum / self.count\n",
    "\n",
    "\n",
    "seed = 601\n",
    "random.seed(seed)\n",
    "np.random.seed(seed)\n",
    "torch.manual_seed(seed)\n",
    "torch.cuda.manual_seed(seed)\n",
    "torch.backends.cudnn.deterministic = True"
   ]
  },
  {
   "cell_type": "code",
   "execution_count": 42,
   "id": "3fe3dcb0-00ba-4fe2-b81a-c50953cf96b5",
   "metadata": {},
   "outputs": [],
   "source": [
    "# 参数\n",
    "DEBUG = False\n",
    "data_path = 'goods_zh.txt'\n",
    "model_name_or_path = 'bert-base-chinese'\n",
    "lr = 5e-5\n",
    "num_epochs = 1\n",
    "batch_size = 64\n",
    "max_len = 180\n",
    "warm_up = 0.0\n",
    "device = 'cuda:0' if torch.cuda.is_available() else 'cpu'"
   ]
  },
  {
   "cell_type": "code",
   "execution_count": 38,
   "id": "67f52d56-d764-48a2-819c-9a99f4bd76c4",
   "metadata": {},
   "outputs": [],
   "source": [
    "# 加载数据\n",
    "df = pd.read_csv(data_path, header=None)\n",
    "df.drop(1, axis=1, inplace=True)\n",
    "df.columns = ['text', 'label']\n",
    "df = df.dropna().reset_index(drop=True)\n",
    "df_train, df_test = train_test_split(df, test_size=0.25, random_state=2024)\n",
    "df_train.reset_index(drop=True, inplace=True)\n",
    "df_test.reset_index(drop=True, inplace=True)"
   ]
  },
  {
   "cell_type": "code",
   "execution_count": 39,
   "id": "0b7f0fbf-3306-491b-94fa-746e6a18dfb6",
   "metadata": {},
   "outputs": [],
   "source": [
    "# 测试，使用少量数据\n",
    "if DEBUG:\n",
    "    num_epochs = 2\n",
    "    df_train = df_train.head(400)\n",
    "    df_test = df_test.head(400)"
   ]
  },
  {
   "cell_type": "code",
   "execution_count": 43,
   "id": "9478ed28-5a20-4fc2-90a8-64932feb2449",
   "metadata": {},
   "outputs": [
    {
     "name": "stderr",
     "output_type": "stream",
     "text": [
      "100%|██████████| 1184/1184 [03:08<00:00,  6.28it/s]\n"
     ]
    }
   ],
   "source": [
    "# 线性schedule\n",
    "scheduler = get_linear_schedule_with_warmup(optimizer, num_warmup_steps=warm_up * num_training_steps,\n",
    "                                            num_training_steps=num_training_steps)\n",
    "scaler = GradScaler()\n",
    "loss_function = nn.BCEWithLogitsLoss() # 损失函数\n",
    "best_score = 0.0\n",
    "for epoch in range(num_epochs):\n",
    "    losses = AverageMeter()\n",
    "    # 训练阶段\n",
    "    model.train()\n",
    "    for i, (ids, mask, label) in enumerate(tqdm(train_loader)):\n",
    "        ids = ids.to(device)\n",
    "        mask = mask.to(device)\n",
    "        label = label.to(device)\n",
    "        label = label.squeeze().float()\n",
    "        with autocast():\n",
    "            output = model(ids, mask)\n",
    "            output = output.squeeze(dim=-1)\n",
    "            # if i == 0:\n",
    "            #     print(f'label = {label.shape}, output = {output.shape}')\n",
    "            loss = loss_function(output, label)\n",
    "        scaler.scale(loss).backward()\n",
    "        losses.update(loss.item(), output.size(0))\n",
    "        scaler.step(optimizer)\n",
    "        scaler.update()\n",
    "        optimizer.zero_grad()\n",
    "        scheduler.step()"
   ]
  },
  {
   "metadata": {},
   "cell_type": "code",
   "outputs": [],
   "execution_count": 40,
   "source": [
    "# 加载 tokenizer\n",
    "tokenizer = AutoTokenizer.from_pretrained(model_name_or_path)\n",
    "\n",
    "# dataset\n",
    "train_dataset = CustomDataset(df_train, tokenizer, max_len)\n",
    "valid_dataset = CustomDataset(df_test, tokenizer, max_len)\n",
    "\n",
    "# DataLoader\n",
    "train_loader = DataLoader(dataset=train_dataset, batch_size=batch_size,\n",
    "                          num_workers=1, drop_last=True, shuffle=True)\n",
    "valid_loader = DataLoader(dataset=valid_dataset, batch_size=batch_size,\n",
    "                          num_workers=1, drop_last=False, shuffle=False)\n"
   ],
   "id": "b9419a7d-9106-4de0-9226-9127bf3d76a5"
  },
  {
   "metadata": {},
   "cell_type": "code",
   "outputs": [],
   "execution_count": 41,
   "source": [
    "# 加载模型\n",
    "model = CustomModel(model_name_or_path)\n",
    "model.to(device) # 将模型切换到device（CPU或者GPU）上\n",
    "num_training_steps = len(train_loader) * num_epochs\n",
    "optimizer = AdamW(model.parameters(), lr=lr, weight_decay=0.01) # 优化器"
   ],
   "id": "986c26c8-4363-4143-b5b9-e91d8bdddb45"
  },
  {
   "cell_type": "code",
   "execution_count": 45,
   "id": "fe42a4a8-24cd-45ff-8dfc-71c4eec8d576",
   "metadata": {},
   "outputs": [
    {
     "name": "stderr",
     "output_type": "stream",
     "text": [
      "100%|██████████| 395/395 [00:50<00:00,  7.81it/s]\n"
     ]
    },
    {
     "name": "stdout",
     "output_type": "stream",
     "text": [
      "epoch=1/1, train_loss=0.1412, valid_loss=0.1302, acc = 0.9581634672471799\n",
      "epoch=1/1, best_score = 0.9581634672471799\n",
      "Save Best Model...\n"
     ]
    }
   ],
   "source": [
    "# 验证阶段\n",
    "valid_losses = AverageMeter()\n",
    "model.eval()\n",
    "preds_all = torch.LongTensor()\n",
    "labels_all = torch.LongTensor()\n",
    "for i, (ids, mask, label) in enumerate(tqdm(valid_loader)):\n",
    "    labels_all = torch.cat((labels_all, label), dim=0)\n",
    "    ids = ids.to(device)\n",
    "    mask = mask.to(device)\n",
    "    label = label.to(device)\n",
    "    label = label.squeeze().float()\n",
    "    with torch.no_grad():\n",
    "        output = model(ids, mask)\n",
    "        output = output.squeeze(dim=-1)\n",
    "        valid_loss = loss_function(output, label)\n",
    "    valid_losses.update(valid_loss.item(), output.size(0))\n",
    "    preds_all = torch.cat((preds_all, torch.sigmoid(output).to('cpu')), dim=0)\n",
    "# 计算准确率，阈值为0.5\n",
    "preds_all_int = torch.where(preds_all > 0.5, 1.0, 0.0)\n",
    "accuracy = accuracy_score(labels_all, preds_all_int)\n",
    "print(f'epoch={epoch+1}/{num_epochs}, train_loss={round(losses.avg, 4)}, valid_loss={round(valid_losses.avg, 4)}, acc = {accuracy}')\n",
    "    \n",
    "# 保留最佳分数的模型权重\n",
    "if accuracy > best_score:\n",
    "    best_score = accuracy\n",
    "    print(f'epoch={epoch+1}/{num_epochs}, best_score = {best_score}')\n",
    "    print('Save Best Model...')\n",
    "    torch.save(model.state_dict(), 'baseline_model.pt')\n"
   ]
  },
  {
   "cell_type": "code",
   "execution_count": null,
   "id": "1ce7004a-9e45-4bbe-a66b-88e41710a0e6",
   "metadata": {},
   "outputs": [],
   "source": []
  }
 ],
 "metadata": {
  "kernelspec": {
   "display_name": "Python 3 (ipykernel)",
   "language": "python",
   "name": "python3"
  },
  "language_info": {
   "codemirror_mode": {
    "name": "ipython",
    "version": 3
   },
   "file_extension": ".py",
   "mimetype": "text/x-python",
   "name": "python",
   "nbconvert_exporter": "python",
   "pygments_lexer": "ipython3",
   "version": "3.12.3"
  }
 },
 "nbformat": 4,
 "nbformat_minor": 5
}
