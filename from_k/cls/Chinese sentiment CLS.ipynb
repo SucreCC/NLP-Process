{
 "cells": [
  {
   "cell_type": "code",
   "id": "22bc99c9-3108-4cec-841e-421db10bf09c",
   "metadata": {
    "ExecuteTime": {
     "end_time": "2024-12-22T07:54:59.083121Z",
     "start_time": "2024-12-22T07:54:55.735250Z"
    }
   },
   "source": [
    "import time\n",
    "\n",
    "import pandas as pd\n",
    "import seaborn as sns\n",
    "import matplotlib.pyplot as plt\n",
    "from transformers import BertTokenizer\n",
    "import torch\n",
    "from sklearn.model_selection import train_test_split\n",
    "from torch.utils.data import DataLoader\n",
    "from torch.utils.data import Dataset\n",
    "from transformers import BertForSequenceClassification\n",
    "import torch.nn as nn\n",
    "import torch.nn.functional as F\n",
    "from transformers import BertModel, BertTokenizer, AdamW, get_linear_schedule_with_warmup\n",
    "import numpy as np\n",
    "from collections import defaultdict"
   ],
   "outputs": [
    {
     "name": "stderr",
     "output_type": "stream",
     "text": [
      "C:\\soft\\anaconda\\envs\\llm\\lib\\site-packages\\tqdm\\auto.py:21: TqdmWarning: IProgress not found. Please update jupyter and ipywidgets. See https://ipywidgets.readthedocs.io/en/stable/user_install.html\n",
      "  from .autonotebook import tqdm as notebook_tqdm\n"
     ]
    }
   ],
   "execution_count": 1
  },
  {
   "metadata": {
    "ExecuteTime": {
     "end_time": "2024-12-22T04:21:21.271463Z",
     "start_time": "2024-12-22T04:21:21.260547Z"
    }
   },
   "cell_type": "code",
   "source": [
    "import os\n",
    "os.environ['CUDA_VISIBLE_DEVICES'] = '0'\n",
    "os.environ[\"TF_FORCE_GPU_ALLOW_CROWTH\"] = \"true\""
   ],
   "id": "ff21be3fde2ab040",
   "outputs": [],
   "execution_count": 6
  },
  {
   "cell_type": "markdown",
   "id": "873d4e73-af7f-40e5-963b-92a5b6f522cb",
   "metadata": {},
   "source": [
    "## 数据清洗"
   ]
  },
  {
   "cell_type": "code",
   "id": "997c04e7-cedd-4140-b154-6cf5be06020c",
   "metadata": {
    "ExecuteTime": {
     "end_time": "2024-12-22T04:21:21.477635Z",
     "start_time": "2024-12-22T04:21:21.287460Z"
    }
   },
   "source": [
    "# 读取文本数据\n",
    "file_path = 'dataset/goods_zh.txt'\n",
    "df = pd.read_csv(file_path)  \n",
    "df.head()"
   ],
   "outputs": [
    {
     "data": {
      "text/plain": [
       "             才用就发现相机打开迟钝，半天反应不过来，有时候还会卡出去，他们又不给解决方案。  Unnamed: 1  0\n",
       "0                                          还没穿二天就起毛了         NaN  0\n",
       "1            坑呢！能教我怎样将双卡和内存卡一起装进去吗？如果不能，说什么支持双卡和SD?-         NaN  0\n",
       "2  诺基亚手机做工质量太差，后壳太垃圾没用几天就掉漆了，为毛要用金属材质，为啥不用陶瓷材质后壳呀...         NaN  0\n",
       "3                                    整体的感觉还是不错的，，，，，         NaN  1\n",
       "4  非常不满意京东的售后服务，买之前联系客服说由于公司新开，公司增值税发票的开票信息还没出来，要...         NaN  0"
      ],
      "text/html": [
       "<div>\n",
       "<style scoped>\n",
       "    .dataframe tbody tr th:only-of-type {\n",
       "        vertical-align: middle;\n",
       "    }\n",
       "\n",
       "    .dataframe tbody tr th {\n",
       "        vertical-align: top;\n",
       "    }\n",
       "\n",
       "    .dataframe thead th {\n",
       "        text-align: right;\n",
       "    }\n",
       "</style>\n",
       "<table border=\"1\" class=\"dataframe\">\n",
       "  <thead>\n",
       "    <tr style=\"text-align: right;\">\n",
       "      <th></th>\n",
       "      <th>才用就发现相机打开迟钝，半天反应不过来，有时候还会卡出去，他们又不给解决方案。</th>\n",
       "      <th>Unnamed: 1</th>\n",
       "      <th>0</th>\n",
       "    </tr>\n",
       "  </thead>\n",
       "  <tbody>\n",
       "    <tr>\n",
       "      <th>0</th>\n",
       "      <td>还没穿二天就起毛了</td>\n",
       "      <td>NaN</td>\n",
       "      <td>0</td>\n",
       "    </tr>\n",
       "    <tr>\n",
       "      <th>1</th>\n",
       "      <td>坑呢！能教我怎样将双卡和内存卡一起装进去吗？如果不能，说什么支持双卡和SD?-</td>\n",
       "      <td>NaN</td>\n",
       "      <td>0</td>\n",
       "    </tr>\n",
       "    <tr>\n",
       "      <th>2</th>\n",
       "      <td>诺基亚手机做工质量太差，后壳太垃圾没用几天就掉漆了，为毛要用金属材质，为啥不用陶瓷材质后壳呀...</td>\n",
       "      <td>NaN</td>\n",
       "      <td>0</td>\n",
       "    </tr>\n",
       "    <tr>\n",
       "      <th>3</th>\n",
       "      <td>整体的感觉还是不错的，，，，，</td>\n",
       "      <td>NaN</td>\n",
       "      <td>1</td>\n",
       "    </tr>\n",
       "    <tr>\n",
       "      <th>4</th>\n",
       "      <td>非常不满意京东的售后服务，买之前联系客服说由于公司新开，公司增值税发票的开票信息还没出来，要...</td>\n",
       "      <td>NaN</td>\n",
       "      <td>0</td>\n",
       "    </tr>\n",
       "  </tbody>\n",
       "</table>\n",
       "</div>"
      ]
     },
     "execution_count": 7,
     "metadata": {},
     "output_type": "execute_result"
    }
   ],
   "execution_count": 7
  },
  {
   "cell_type": "markdown",
   "id": "4300bbdd-9e46-4978-a384-2eabb5fc7e8e",
   "metadata": {},
   "source": [
    "**通过初步观察可以发现：**\n",
    "\n",
    "1. 数据集本身没有标题\n",
    "2. Unnamed列可能代表着发出此评价的用户名，数据内容是NaN，说明这是多余的\n",
    "3. 最后一列是label：0代表着负面，1代表着正面\n",
    "\n",
    "接下来要进行数据集的清洗"
   ]
  },
  {
   "cell_type": "code",
   "id": "4896ef73-9978-4a09-85ea-ed70f4b7bbbc",
   "metadata": {
    "ExecuteTime": {
     "end_time": "2024-12-22T04:21:21.541634Z",
     "start_time": "2024-12-22T04:21:21.526634Z"
    }
   },
   "source": [
    "#删除多余列\n",
    "df = df.dropna(axis=1, how='all')  # 删除所有值为 NaN 的列\n",
    "\n",
    "df.columns = ['Review', 'Label']  # 为已有的 DataFrame 设置新的列名"
   ],
   "outputs": [],
   "execution_count": 8
  },
  {
   "cell_type": "code",
   "id": "6cf87690-a891-464a-84fa-04ef2edeaf7a",
   "metadata": {
    "ExecuteTime": {
     "end_time": "2024-12-22T04:21:21.604635Z",
     "start_time": "2024-12-22T04:21:21.590634Z"
    }
   },
   "source": [
    "df.head()\n"
   ],
   "outputs": [
    {
     "data": {
      "text/plain": [
       "                                              Review  Label\n",
       "0                                          还没穿二天就起毛了      0\n",
       "1            坑呢！能教我怎样将双卡和内存卡一起装进去吗？如果不能，说什么支持双卡和SD?-      0\n",
       "2  诺基亚手机做工质量太差，后壳太垃圾没用几天就掉漆了，为毛要用金属材质，为啥不用陶瓷材质后壳呀...      0\n",
       "3                                    整体的感觉还是不错的，，，，，      1\n",
       "4  非常不满意京东的售后服务，买之前联系客服说由于公司新开，公司增值税发票的开票信息还没出来，要...      0"
      ],
      "text/html": [
       "<div>\n",
       "<style scoped>\n",
       "    .dataframe tbody tr th:only-of-type {\n",
       "        vertical-align: middle;\n",
       "    }\n",
       "\n",
       "    .dataframe tbody tr th {\n",
       "        vertical-align: top;\n",
       "    }\n",
       "\n",
       "    .dataframe thead th {\n",
       "        text-align: right;\n",
       "    }\n",
       "</style>\n",
       "<table border=\"1\" class=\"dataframe\">\n",
       "  <thead>\n",
       "    <tr style=\"text-align: right;\">\n",
       "      <th></th>\n",
       "      <th>Review</th>\n",
       "      <th>Label</th>\n",
       "    </tr>\n",
       "  </thead>\n",
       "  <tbody>\n",
       "    <tr>\n",
       "      <th>0</th>\n",
       "      <td>还没穿二天就起毛了</td>\n",
       "      <td>0</td>\n",
       "    </tr>\n",
       "    <tr>\n",
       "      <th>1</th>\n",
       "      <td>坑呢！能教我怎样将双卡和内存卡一起装进去吗？如果不能，说什么支持双卡和SD?-</td>\n",
       "      <td>0</td>\n",
       "    </tr>\n",
       "    <tr>\n",
       "      <th>2</th>\n",
       "      <td>诺基亚手机做工质量太差，后壳太垃圾没用几天就掉漆了，为毛要用金属材质，为啥不用陶瓷材质后壳呀...</td>\n",
       "      <td>0</td>\n",
       "    </tr>\n",
       "    <tr>\n",
       "      <th>3</th>\n",
       "      <td>整体的感觉还是不错的，，，，，</td>\n",
       "      <td>1</td>\n",
       "    </tr>\n",
       "    <tr>\n",
       "      <th>4</th>\n",
       "      <td>非常不满意京东的售后服务，买之前联系客服说由于公司新开，公司增值税发票的开票信息还没出来，要...</td>\n",
       "      <td>0</td>\n",
       "    </tr>\n",
       "  </tbody>\n",
       "</table>\n",
       "</div>"
      ]
     },
     "execution_count": 9,
     "metadata": {},
     "output_type": "execute_result"
    }
   ],
   "execution_count": 9
  },
  {
   "cell_type": "code",
   "id": "55d89eb3-69ef-4e1d-bafe-55dd0d80edbb",
   "metadata": {
    "ExecuteTime": {
     "end_time": "2024-12-22T04:21:21.651635Z",
     "start_time": "2024-12-22T04:21:21.630635Z"
    }
   },
   "source": [
    "# 检查是否有缺失值\n",
    "print(df.isnull().sum())"
   ],
   "outputs": [
    {
     "name": "stdout",
     "output_type": "stream",
     "text": [
      "Review    1\n",
      "Label     0\n",
      "dtype: int64\n"
     ]
    }
   ],
   "execution_count": 10
  },
  {
   "cell_type": "code",
   "id": "5de239b6-9fa7-4d95-989e-7c2f0dac0ac4",
   "metadata": {
    "ExecuteTime": {
     "end_time": "2024-12-22T04:21:21.809634Z",
     "start_time": "2024-12-22T04:21:21.764635Z"
    }
   },
   "source": [
    "# 删除含有缺失值的行\n",
    "df = df.dropna(subset=['Review'])\n",
    "\n",
    "# 重置索引\n",
    "df = df.reset_index(drop=True)\n",
    "\n",
    "# 再次检查是否还有缺失值\n",
    "print(\"清理后缺失值数量:\", df['Review'].isnull().sum())"
   ],
   "outputs": [
    {
     "name": "stdout",
     "output_type": "stream",
     "text": [
      "清理后缺失值数量: 0\n"
     ]
    }
   ],
   "execution_count": 11
  },
  {
   "cell_type": "code",
   "id": "856d7901-1178-448b-9127-7726956234e1",
   "metadata": {
    "ExecuteTime": {
     "end_time": "2024-12-22T04:21:21.889634Z",
     "start_time": "2024-12-22T04:21:21.875635Z"
    }
   },
   "source": [
    "#随机检查一些评论和标签，确保标签符合实际语义\n",
    "df.sample(10)"
   ],
   "outputs": [
    {
     "data": {
      "text/plain": [
       "                                                  Review  Label\n",
       "83494                                    物流速度太慢了。。，手机一般般      0\n",
       "98568                                 收到的包装就是这样的，特别简陋，差评      0\n",
       "44113                    手机是还可以 但是打开盒子里面连入门指南都没给我装，有这么忙吗      0\n",
       "29022                 IFINITY应用多开的功能没有了，纯属上当受骗啊！不如360N5!      0\n",
       "38052                                                 不错      1\n",
       "24358                               要求退货，未用一个月，主板就坏了！???      1\n",
       "63601                                                很满意      1\n",
       "26181  第一次在京东买东西，买了自己一直很想买的笔记本电脑！嘻嘻&hellip;&hellip;快递...      1\n",
       "83920  质量真的是太差了！！刚买的新手机，换了新卡刚用上就总是通话中自动挂断，刚接通几秒钟就自动挂断...      0\n",
       "79919  好评给手机，，差评给京东的，一直推卸责任，4月12日抢购，19号到货，中间咨询一直推卸责任，...      0"
      ],
      "text/html": [
       "<div>\n",
       "<style scoped>\n",
       "    .dataframe tbody tr th:only-of-type {\n",
       "        vertical-align: middle;\n",
       "    }\n",
       "\n",
       "    .dataframe tbody tr th {\n",
       "        vertical-align: top;\n",
       "    }\n",
       "\n",
       "    .dataframe thead th {\n",
       "        text-align: right;\n",
       "    }\n",
       "</style>\n",
       "<table border=\"1\" class=\"dataframe\">\n",
       "  <thead>\n",
       "    <tr style=\"text-align: right;\">\n",
       "      <th></th>\n",
       "      <th>Review</th>\n",
       "      <th>Label</th>\n",
       "    </tr>\n",
       "  </thead>\n",
       "  <tbody>\n",
       "    <tr>\n",
       "      <th>83494</th>\n",
       "      <td>物流速度太慢了。。，手机一般般</td>\n",
       "      <td>0</td>\n",
       "    </tr>\n",
       "    <tr>\n",
       "      <th>98568</th>\n",
       "      <td>收到的包装就是这样的，特别简陋，差评</td>\n",
       "      <td>0</td>\n",
       "    </tr>\n",
       "    <tr>\n",
       "      <th>44113</th>\n",
       "      <td>手机是还可以 但是打开盒子里面连入门指南都没给我装，有这么忙吗</td>\n",
       "      <td>0</td>\n",
       "    </tr>\n",
       "    <tr>\n",
       "      <th>29022</th>\n",
       "      <td>IFINITY应用多开的功能没有了，纯属上当受骗啊！不如360N5!</td>\n",
       "      <td>0</td>\n",
       "    </tr>\n",
       "    <tr>\n",
       "      <th>38052</th>\n",
       "      <td>不错</td>\n",
       "      <td>1</td>\n",
       "    </tr>\n",
       "    <tr>\n",
       "      <th>24358</th>\n",
       "      <td>要求退货，未用一个月，主板就坏了！???</td>\n",
       "      <td>1</td>\n",
       "    </tr>\n",
       "    <tr>\n",
       "      <th>63601</th>\n",
       "      <td>很满意</td>\n",
       "      <td>1</td>\n",
       "    </tr>\n",
       "    <tr>\n",
       "      <th>26181</th>\n",
       "      <td>第一次在京东买东西，买了自己一直很想买的笔记本电脑！嘻嘻&amp;hellip;&amp;hellip;快递...</td>\n",
       "      <td>1</td>\n",
       "    </tr>\n",
       "    <tr>\n",
       "      <th>83920</th>\n",
       "      <td>质量真的是太差了！！刚买的新手机，换了新卡刚用上就总是通话中自动挂断，刚接通几秒钟就自动挂断...</td>\n",
       "      <td>0</td>\n",
       "    </tr>\n",
       "    <tr>\n",
       "      <th>79919</th>\n",
       "      <td>好评给手机，，差评给京东的，一直推卸责任，4月12日抢购，19号到货，中间咨询一直推卸责任，...</td>\n",
       "      <td>0</td>\n",
       "    </tr>\n",
       "  </tbody>\n",
       "</table>\n",
       "</div>"
      ]
     },
     "execution_count": 12,
     "metadata": {},
     "output_type": "execute_result"
    }
   ],
   "execution_count": 12
  },
  {
   "cell_type": "code",
   "id": "b130c0a9-3a26-40b1-bde9-29bb499eda37",
   "metadata": {
    "ExecuteTime": {
     "end_time": "2024-12-22T04:21:22.171635Z",
     "start_time": "2024-12-22T04:21:22.152633Z"
    }
   },
   "source": [
    "#打印列名\n",
    "print(df.columns)\n",
    "\n",
    "# 检查数据集大小\n",
    "print(df.shape)"
   ],
   "outputs": [
    {
     "name": "stdout",
     "output_type": "stream",
     "text": [
      "Index(['Review', 'Label'], dtype='object')\n",
      "(101056, 2)\n"
     ]
    }
   ],
   "execution_count": 13
  },
  {
   "cell_type": "code",
   "id": "97bc0a27-e2c6-41bc-b9e3-3ebedcf48330",
   "metadata": {
    "ExecuteTime": {
     "end_time": "2024-12-22T04:21:22.662562Z",
     "start_time": "2024-12-22T04:21:22.326660Z"
    }
   },
   "source": [
    "# 检查标签分布\n",
    "print(df['Label'].value_counts())\n",
    "\n",
    "# 画出标签分布的柱状图\n",
    "plt.figure(figsize=(8, 6)) \n",
    "sns.set_style('whitegrid') \n",
    "sns.set_palette('pastel')  \n",
    "ax = sns.countplot(x='Label', data=df)\n",
    "\n",
    "# 在柱子上显示计数\n",
    "for p in ax.patches:\n",
    "    ax.annotate(f'{int(p.get_height())}', (p.get_x() + p.get_width() / 2., p.get_height()),\n",
    "                ha='center', va='baseline', fontsize=12, color='black', xytext=(0, 5), textcoords='offset points')\n",
    "\n",
    "# 添加标题和标签\n",
    "plt.xlabel('Review Label', fontsize=12)\n",
    "plt.ylabel('Count', fontsize=12)\n",
    "plt.title('Distribution of Review Labels', fontsize=16)\n",
    "plt.xticks(fontsize=10)\n",
    "plt.yticks(fontsize=10)\n",
    "plt.show()"
   ],
   "outputs": [
    {
     "name": "stdout",
     "output_type": "stream",
     "text": [
      "Label\n",
      "0    50556\n",
      "1    50500\n",
      "Name: count, dtype: int64\n"
     ]
    },
    {
     "data": {
      "text/plain": [
       "<Figure size 800x600 with 1 Axes>"
      ],
      "image/png": "[encoded data removed]"
     },
     "metadata": {},
     "output_type": "display_data"
    }
   ],
   "execution_count": 14
  },
  {
   "cell_type": "markdown",
   "id": "b2047ced-e760-48cb-9220-28090fc5afbc",
   "metadata": {},
   "source": [
    "至此，得到了一个较为干净整洁的数据集。数据分布也很均匀。可以继续数据处理了。"
   ]
  },
  {
   "cell_type": "markdown",
   "id": "e89a6fcc-c124-4285-8f2a-6a8cac0a5ccf",
   "metadata": {},
   "source": [
    "## 数据处理"
   ]
  },
  {
   "cell_type": "markdown",
   "id": "49f4a997-1c34-4131-b381-ec77812ba41b",
   "metadata": {},
   "source": [
    "### 1. 分词器选择"
   ]
  },
  {
   "cell_type": "code",
   "id": "b2f967d5-d5c3-4bca-9dd7-2a84c205de63",
   "metadata": {
    "ExecuteTime": {
     "end_time": "2024-12-22T04:21:32.723112Z",
     "start_time": "2024-12-22T04:21:22.681562Z"
    }
   },
   "source": [
    "# 加载中文 BERT 的分词器\n",
    "PRE_TRAINED_MODEL_NAME = 'bert-base-chinese' \n",
    "tokenizer = BertTokenizer.from_pretrained(PRE_TRAINED_MODEL_NAME)"
   ],
   "outputs": [],
   "execution_count": 15
  },
  {
   "cell_type": "code",
   "id": "c320e7a5-3c03-4f5a-9615-da28c4ac7b12",
   "metadata": {
    "ExecuteTime": {
     "end_time": "2024-12-22T04:21:32.754119Z",
     "start_time": "2024-12-22T04:21:32.740118Z"
    }
   },
   "source": [
    "tokenizer"
   ],
   "outputs": [
    {
     "data": {
      "text/plain": [
       "BertTokenizer(name_or_path='bert-base-chinese', vocab_size=21128, model_max_length=512, is_fast=False, padding_side='right', truncation_side='right', special_tokens={'unk_token': '[UNK]', 'sep_token': '[SEP]', 'pad_token': '[PAD]', 'cls_token': '[CLS]', 'mask_token': '[MASK]'}, clean_up_tokenization_spaces=True, added_tokens_decoder={\n",
       "\t0: AddedToken(\"[PAD]\", rstrip=False, lstrip=False, single_word=False, normalized=False, special=True),\n",
       "\t100: AddedToken(\"[UNK]\", rstrip=False, lstrip=False, single_word=False, normalized=False, special=True),\n",
       "\t101: AddedToken(\"[CLS]\", rstrip=False, lstrip=False, single_word=False, normalized=False, special=True),\n",
       "\t102: AddedToken(\"[SEP]\", rstrip=False, lstrip=False, single_word=False, normalized=False, special=True),\n",
       "\t103: AddedToken(\"[MASK]\", rstrip=False, lstrip=False, single_word=False, normalized=False, special=True),\n",
       "}\n",
       ")"
      ]
     },
     "execution_count": 16,
     "metadata": {},
     "output_type": "execute_result"
    }
   ],
   "execution_count": 16
  },
  {
   "cell_type": "markdown",
   "id": "f32086f7-329b-4df0-a2f9-f3ae4565492d",
   "metadata": {},
   "source": [
    "### 2. 分词与 ID 映射"
   ]
  },
  {
   "cell_type": "code",
   "id": "90de0b9f-8083-4aba-8ebc-163cca450591",
   "metadata": {
    "ExecuteTime": {
     "end_time": "2024-12-22T04:21:32.786117Z",
     "start_time": "2024-12-22T04:21:32.772117Z"
    }
   },
   "source": [
    "# 示例中文句子\n",
    "sample_txt = \"我非常喜欢这款商品，质量很好，值得购买。\"\n",
    "\n",
    "# 分词\n",
    "tokens = tokenizer.tokenize(sample_txt)\n",
    "\n",
    "# 将分词后的 tokens 转为 ID\n",
    "token_ids = tokenizer.convert_tokens_to_ids(tokens)\n",
    "\n",
    "print(f\"文本为: {sample_txt}\")\n",
    "print(f\"分词的结果为: {tokens}\")\n",
    "print(f\"词对应的唯一ID: {token_ids}\")"
   ],
   "outputs": [
    {
     "name": "stdout",
     "output_type": "stream",
     "text": [
      "文本为: 我非常喜欢这款商品，质量很好，值得购买。\n",
      "分词的结果为: ['我', '非', '常', '喜', '欢', '这', '款', '商', '品', '，', '质', '量', '很', '好', '，', '值', '得', '购', '买', '。']\n",
      "词对应的唯一ID: [2769, 7478, 2382, 1599, 3614, 6821, 3621, 1555, 1501, 8024, 6574, 7030, 2523, 1962, 8024, 966, 2533, 6579, 743, 511]\n"
     ]
    }
   ],
   "execution_count": 17
  },
  {
   "cell_type": "markdown",
   "id": "76c67437-811a-47a4-b420-ebf9975c576a",
   "metadata": {},
   "source": [
    "### 3. 添加特殊标记并完成编码\n",
    "在使用 BERT 时，输入需要包括特殊标记（如 [CLS] 和 [SEP]），可以通过分词器的 encode 方法自动完成。"
   ]
  },
  {
   "cell_type": "code",
   "id": "b28e4518-6375-4c29-9de2-03ebcead4753",
   "metadata": {
    "ExecuteTime": {
     "end_time": "2024-12-22T04:21:32.817116Z",
     "start_time": "2024-12-22T04:21:32.802116Z"
    }
   },
   "source": [
    "# 对文本进行编码，包含 [CLS] 和 [SEP]\n",
    "encoded = tokenizer.encode_plus(\n",
    "    sample_txt,\n",
    "    max_length=128,               # 最大长度\n",
    "    add_special_tokens=True,      # [CLS]和[SEP]\n",
    "    return_token_type_ids=True,\n",
    "    padding='max_length',         # 补齐到最大长度\n",
    "    return_attention_mask=True,\n",
    "    truncation=True,              # 截断超出部分\n",
    "    return_tensors='pt'           # 返回 PyTorch 的 Tensor\n",
    ")\n",
    "\n",
    "encoded.keys()"
   ],
   "outputs": [
    {
     "data": {
      "text/plain": [
       "dict_keys(['input_ids', 'token_type_ids', 'attention_mask'])"
      ]
     },
     "execution_count": 18,
     "metadata": {},
     "output_type": "execute_result"
    }
   ],
   "execution_count": 18
  },
  {
   "cell_type": "code",
   "id": "67ab19fa-85e3-4271-aaed-bd22c254800a",
   "metadata": {
    "ExecuteTime": {
     "end_time": "2024-12-22T04:21:32.864115Z",
     "start_time": "2024-12-22T04:21:32.850116Z"
    }
   },
   "source": [
    "encoded"
   ],
   "outputs": [
    {
     "data": {
      "text/plain": [
       "{'input_ids': tensor([[ 101, 2769, 7478, 2382, 1599, 3614, 6821, 3621, 1555, 1501, 8024, 6574,\n",
       "         7030, 2523, 1962, 8024,  966, 2533, 6579,  743,  511,  102,    0,    0,\n",
       "            0,    0,    0,    0,    0,    0,    0,    0,    0,    0,    0,    0,\n",
       "            0,    0,    0,    0,    0,    0,    0,    0,    0,    0,    0,    0,\n",
       "            0,    0,    0,    0,    0,    0,    0,    0,    0,    0,    0,    0,\n",
       "            0,    0,    0,    0,    0,    0,    0,    0,    0,    0,    0,    0,\n",
       "            0,    0,    0,    0,    0,    0,    0,    0,    0,    0,    0,    0,\n",
       "            0,    0,    0,    0,    0,    0,    0,    0,    0,    0,    0,    0,\n",
       "            0,    0,    0,    0,    0,    0,    0,    0,    0,    0,    0,    0,\n",
       "            0,    0,    0,    0,    0,    0,    0,    0,    0,    0,    0,    0,\n",
       "            0,    0,    0,    0,    0,    0,    0,    0]]), 'token_type_ids': tensor([[0, 0, 0, 0, 0, 0, 0, 0, 0, 0, 0, 0, 0, 0, 0, 0, 0, 0, 0, 0, 0, 0, 0, 0,\n",
       "         0, 0, 0, 0, 0, 0, 0, 0, 0, 0, 0, 0, 0, 0, 0, 0, 0, 0, 0, 0, 0, 0, 0, 0,\n",
       "         0, 0, 0, 0, 0, 0, 0, 0, 0, 0, 0, 0, 0, 0, 0, 0, 0, 0, 0, 0, 0, 0, 0, 0,\n",
       "         0, 0, 0, 0, 0, 0, 0, 0, 0, 0, 0, 0, 0, 0, 0, 0, 0, 0, 0, 0, 0, 0, 0, 0,\n",
       "         0, 0, 0, 0, 0, 0, 0, 0, 0, 0, 0, 0, 0, 0, 0, 0, 0, 0, 0, 0, 0, 0, 0, 0,\n",
       "         0, 0, 0, 0, 0, 0, 0, 0]]), 'attention_mask': tensor([[1, 1, 1, 1, 1, 1, 1, 1, 1, 1, 1, 1, 1, 1, 1, 1, 1, 1, 1, 1, 1, 1, 0, 0,\n",
       "         0, 0, 0, 0, 0, 0, 0, 0, 0, 0, 0, 0, 0, 0, 0, 0, 0, 0, 0, 0, 0, 0, 0, 0,\n",
       "         0, 0, 0, 0, 0, 0, 0, 0, 0, 0, 0, 0, 0, 0, 0, 0, 0, 0, 0, 0, 0, 0, 0, 0,\n",
       "         0, 0, 0, 0, 0, 0, 0, 0, 0, 0, 0, 0, 0, 0, 0, 0, 0, 0, 0, 0, 0, 0, 0, 0,\n",
       "         0, 0, 0, 0, 0, 0, 0, 0, 0, 0, 0, 0, 0, 0, 0, 0, 0, 0, 0, 0, 0, 0, 0, 0,\n",
       "         0, 0, 0, 0, 0, 0, 0, 0]])}"
      ]
     },
     "execution_count": 19,
     "metadata": {},
     "output_type": "execute_result"
    }
   ],
   "execution_count": 19
  },
  {
   "cell_type": "code",
   "id": "cb789485-bc82-47ef-8f61-807b1c5b45ec",
   "metadata": {
    "ExecuteTime": {
     "end_time": "2024-12-22T04:21:32.896115Z",
     "start_time": "2024-12-22T04:21:32.882116Z"
    }
   },
   "source": [
    "print(len(encoded['input_ids'][0]))\n",
    "print(len(encoded['attention_mask'][0]))"
   ],
   "outputs": [
    {
     "name": "stdout",
     "output_type": "stream",
     "text": [
      "128\n",
      "128\n"
     ]
    }
   ],
   "execution_count": 20
  },
  {
   "cell_type": "markdown",
   "id": "baeb94ee-0999-4936-9d92-b118ab63c385",
   "metadata": {},
   "source": [
    "由此可见，input_ids与attention_mask都是具有相同的长度（128）的张量\n",
    "\n",
    "现在将ids字符反转，打印一下每个字符是什么"
   ]
  },
  {
   "cell_type": "code",
   "id": "816828ee-8f47-4e8a-bd08-620ebc2315f2",
   "metadata": {
    "ExecuteTime": {
     "end_time": "2024-12-22T04:21:32.928115Z",
     "start_time": "2024-12-22T04:21:32.915117Z"
    }
   },
   "source": [
    "tokenizer.convert_ids_to_tokens(encoded['input_ids'][0])"
   ],
   "outputs": [
    {
     "data": {
      "text/plain": [
       "['[CLS]',\n",
       " '我',\n",
       " '非',\n",
       " '常',\n",
       " '喜',\n",
       " '欢',\n",
       " '这',\n",
       " '款',\n",
       " '商',\n",
       " '品',\n",
       " '，',\n",
       " '质',\n",
       " '量',\n",
       " '很',\n",
       " '好',\n",
       " '，',\n",
       " '值',\n",
       " '得',\n",
       " '购',\n",
       " '买',\n",
       " '。',\n",
       " '[SEP]',\n",
       " '[PAD]',\n",
       " '[PAD]',\n",
       " '[PAD]',\n",
       " '[PAD]',\n",
       " '[PAD]',\n",
       " '[PAD]',\n",
       " '[PAD]',\n",
       " '[PAD]',\n",
       " '[PAD]',\n",
       " '[PAD]',\n",
       " '[PAD]',\n",
       " '[PAD]',\n",
       " '[PAD]',\n",
       " '[PAD]',\n",
       " '[PAD]',\n",
       " '[PAD]',\n",
       " '[PAD]',\n",
       " '[PAD]',\n",
       " '[PAD]',\n",
       " '[PAD]',\n",
       " '[PAD]',\n",
       " '[PAD]',\n",
       " '[PAD]',\n",
       " '[PAD]',\n",
       " '[PAD]',\n",
       " '[PAD]',\n",
       " '[PAD]',\n",
       " '[PAD]',\n",
       " '[PAD]',\n",
       " '[PAD]',\n",
       " '[PAD]',\n",
       " '[PAD]',\n",
       " '[PAD]',\n",
       " '[PAD]',\n",
       " '[PAD]',\n",
       " '[PAD]',\n",
       " '[PAD]',\n",
       " '[PAD]',\n",
       " '[PAD]',\n",
       " '[PAD]',\n",
       " '[PAD]',\n",
       " '[PAD]',\n",
       " '[PAD]',\n",
       " '[PAD]',\n",
       " '[PAD]',\n",
       " '[PAD]',\n",
       " '[PAD]',\n",
       " '[PAD]',\n",
       " '[PAD]',\n",
       " '[PAD]',\n",
       " '[PAD]',\n",
       " '[PAD]',\n",
       " '[PAD]',\n",
       " '[PAD]',\n",
       " '[PAD]',\n",
       " '[PAD]',\n",
       " '[PAD]',\n",
       " '[PAD]',\n",
       " '[PAD]',\n",
       " '[PAD]',\n",
       " '[PAD]',\n",
       " '[PAD]',\n",
       " '[PAD]',\n",
       " '[PAD]',\n",
       " '[PAD]',\n",
       " '[PAD]',\n",
       " '[PAD]',\n",
       " '[PAD]',\n",
       " '[PAD]',\n",
       " '[PAD]',\n",
       " '[PAD]',\n",
       " '[PAD]',\n",
       " '[PAD]',\n",
       " '[PAD]',\n",
       " '[PAD]',\n",
       " '[PAD]',\n",
       " '[PAD]',\n",
       " '[PAD]',\n",
       " '[PAD]',\n",
       " '[PAD]',\n",
       " '[PAD]',\n",
       " '[PAD]',\n",
       " '[PAD]',\n",
       " '[PAD]',\n",
       " '[PAD]',\n",
       " '[PAD]',\n",
       " '[PAD]',\n",
       " '[PAD]',\n",
       " '[PAD]',\n",
       " '[PAD]',\n",
       " '[PAD]',\n",
       " '[PAD]',\n",
       " '[PAD]',\n",
       " '[PAD]',\n",
       " '[PAD]',\n",
       " '[PAD]',\n",
       " '[PAD]',\n",
       " '[PAD]',\n",
       " '[PAD]',\n",
       " '[PAD]',\n",
       " '[PAD]',\n",
       " '[PAD]',\n",
       " '[PAD]',\n",
       " '[PAD]',\n",
       " '[PAD]',\n",
       " '[PAD]']"
      ]
     },
     "execution_count": 21,
     "metadata": {},
     "output_type": "execute_result"
    }
   ],
   "execution_count": 21
  },
  {
   "cell_type": "markdown",
   "id": "d3a75bff-f1fa-4132-8e11-332d82125ae6",
   "metadata": {},
   "source": [
    "#### 检查文本的最大长度"
   ]
  },
  {
   "cell_type": "code",
   "id": "b62fda99-46df-40d7-8153-e6a3fd28c34c",
   "metadata": {
    "ExecuteTime": {
     "end_time": "2024-12-22T04:22:01.723375Z",
     "start_time": "2024-12-22T04:21:32.952116Z"
    }
   },
   "source": [
    "token_lens = []\n",
    "\n",
    "for txt in df.Review:\n",
    "    tokens = tokenizer.encode(txt, max_length=512)\n",
    "    token_lens.append(len(tokens))"
   ],
   "outputs": [
    {
     "name": "stderr",
     "output_type": "stream",
     "text": [
      "Truncation was not explicitly activated but `max_length` is provided a specific value, please use `truncation=True` to explicitly truncate examples to max length. Defaulting to 'longest_first' truncation strategy. If you encode pairs of sequences (GLUE-style) with the tokenizer you can select this strategy more precisely by providing a specific strategy to `truncation`.\n"
     ]
    }
   ],
   "execution_count": 22
  },
  {
   "cell_type": "code",
   "id": "5d66306d-09ee-4060-bd4a-620856742cc2",
   "metadata": {
    "ExecuteTime": {
     "end_time": "2024-12-22T04:22:02.280563Z",
     "start_time": "2024-12-22T04:22:01.740377Z"
    }
   },
   "source": [
    "sns.distplot(token_lens)\n",
    "plt.xlim([0, 256]);\n",
    "plt.xlabel('Token count')"
   ],
   "outputs": [
    {
     "name": "stderr",
     "output_type": "stream",
     "text": [
      "C:\\Users\\Sucre\\AppData\\Local\\Temp\\ipykernel_12584\\2583240476.py:1: UserWarning: \n",
      "\n",
      "`distplot` is a deprecated function and will be removed in seaborn v0.14.0.\n",
      "\n",
      "Please adapt your code to use either `displot` (a figure-level function with\n",
      "similar flexibility) or `histplot` (an axes-level function for histograms).\n",
      "\n",
      "For a guide to updating your code to use the new functions, please see\n",
      "https://gist.github.com/mwaskom/de44147ed2974457ad6372750bbe5751\n",
      "\n",
      "  sns.distplot(token_lens)\n"
     ]
    },
    {
     "data": {
      "text/plain": [
       "Text(0.5, 0, 'Token count')"
      ]
     },
     "execution_count": 23,
     "metadata": {},
     "output_type": "execute_result"
    },
    {
     "data": {
      "text/plain": [
       "<Figure size 640x480 with 1 Axes>"
      ],
      "image/png": "[encoded data removed]"
     },
     "metadata": {},
     "output_type": "display_data"
    }
   ],
   "execution_count": 23
  },
  {
   "cell_type": "markdown",
   "id": "e2184835-d0cd-48d6-a0ed-10213b01177d",
   "metadata": {},
   "source": [
    "可以看到大多数文本的ids长度在200以内，我们设置最大长度为250"
   ]
  },
  {
   "cell_type": "code",
   "id": "e359c53f-123d-4b9a-9940-87b09f8edc83",
   "metadata": {
    "ExecuteTime": {
     "end_time": "2024-12-22T04:22:02.311954Z",
     "start_time": "2024-12-22T04:22:02.297564Z"
    }
   },
   "source": [
    "MAX_LEN = 250"
   ],
   "outputs": [],
   "execution_count": 24
  },
  {
   "cell_type": "markdown",
   "id": "e970b844-8038-42ef-8364-ffc8b4b3faa7",
   "metadata": {},
   "source": [
    "### 4. 批量处理文本数据"
   ]
  },
  {
   "cell_type": "code",
   "id": "678e4146-df27-429e-9c9c-2646a214aab5",
   "metadata": {
    "ExecuteTime": {
     "end_time": "2024-12-22T04:22:02.359955Z",
     "start_time": "2024-12-22T04:22:02.329954Z"
    }
   },
   "source": [
    "# 设置随机种子\n",
    "RANDOM_SEED = 1221\n",
    "\n",
    "# 数据集拆分为训练集、验证集和测试集\n",
    "df_train, df_test = train_test_split(df, test_size=0.1, random_state=RANDOM_SEED)  # 先划分出 10% 的测试集\n",
    "df_val, df_test = train_test_split(df_test, test_size=0.5, random_state=RANDOM_SEED)  # 将测试集再划分为验证集和测试集\n",
    "\n",
    "# 查看各数据集大小\n",
    "print(\"训练集大小:\", df_train.shape)\n",
    "print(\"验证集大小:\", df_val.shape)\n",
    "print(\"测试集大小:\", df_test.shape)\n"
   ],
   "outputs": [
    {
     "name": "stdout",
     "output_type": "stream",
     "text": [
      "训练集大小: (90950, 2)\n",
      "验证集大小: (5053, 2)\n",
      "测试集大小: (5053, 2)\n"
     ]
    }
   ],
   "execution_count": 25
  },
  {
   "cell_type": "markdown",
   "id": "067b5993-6eca-4098-9fe7-d2ea75617aa5",
   "metadata": {},
   "source": [
    "### 5. 数据集和数据加载器"
   ]
  },
  {
   "cell_type": "markdown",
   "id": "484ffbb9-9c15-445e-8ae2-c5d36cd0ba9a",
   "metadata": {},
   "source": [
    "定义这个 SentimentDataset 类的目的是 将你的数据集（包含 Review 和 Label 列）转换为适合 PyTorch 模型训练的数据格式。简单来说，它是一个专门为 PyTorch 设计的数据加载类，可以在模型训练时高效地处理文本和标签。\n",
    "\n",
    "在深度学习项目中，模型通常需要输入张量（Tensor），而你的数据集是一个 DataFrame 或其他表格格式的数据，因此需要一个工具将其转化为适合 PyTorch 的输入格式。SentimentDataset 就是为此目的设计的。"
   ]
  },
  {
   "cell_type": "code",
   "id": "53f5beb4-3d49-45b9-84d6-06e7f11e088d",
   "metadata": {
    "ExecuteTime": {
     "end_time": "2024-12-22T04:22:02.391161Z",
     "start_time": "2024-12-22T04:22:02.376955Z"
    }
   },
   "source": [
    "class SentimentDataset(Dataset):\n",
    "    def __init__(self, reviews, labels, tokenizer, max_len):\n",
    "        self.reviews = reviews\n",
    "        self.labels = labels\n",
    "        self.tokenizer = tokenizer\n",
    "        self.max_len = max_len\n",
    "\n",
    "    def __len__(self):\n",
    "        return len(self.reviews)\n",
    "\n",
    "    def __getitem__(self, item):\n",
    "        review = str(self.reviews[item])\n",
    "        label = self.labels[item]\n",
    "\n",
    "        # 使用分词器对评论进行编码\n",
    "        encoded = tokenizer.encode_plus(\n",
    "            sample_txt,\n",
    "            max_length=128,               # 最大长度\n",
    "            add_special_tokens=True,      # [CLS]和[SEP]\n",
    "            return_token_type_ids=True,\n",
    "            padding='max_length',         # 补齐到最大长度\n",
    "            return_attention_mask=True,\n",
    "            truncation=True,              # 截断超出部分\n",
    "            return_tensors='pt'           # 返回 PyTorch 的 Tensor\n",
    ")\n",
    "\n",
    "        return {\n",
    "            'review_text': review,\n",
    "            'input_ids': encoded['input_ids'].squeeze(0),\n",
    "            'attention_mask': encoded['attention_mask'].squeeze(0),\n",
    "            'label': torch.tensor(label, dtype=torch.long)\n",
    "        }\n"
   ],
   "outputs": [],
   "execution_count": 26
  },
  {
   "cell_type": "code",
   "id": "e37e4049-3e3b-4aa6-8801-12c8ed23a11f",
   "metadata": {
    "ExecuteTime": {
     "end_time": "2024-12-22T04:22:02.422954Z",
     "start_time": "2024-12-22T04:22:02.407953Z"
    }
   },
   "source": [
    "def create_data_loader(df, tokenizer, max_len, batch_size):\n",
    "    dataset = SentimentDataset(\n",
    "        reviews=df.Review.to_numpy(),\n",
    "        labels=df.Label.to_numpy(),\n",
    "        tokenizer=tokenizer,\n",
    "        max_len=max_len\n",
    "    )\n",
    "    return DataLoader(dataset, batch_size=batch_size, shuffle=True)\n"
   ],
   "outputs": [],
   "execution_count": 27
  },
  {
   "cell_type": "code",
   "id": "40ab8d9d-000d-49c4-bb1e-74acef78e0c9",
   "metadata": {
    "ExecuteTime": {
     "end_time": "2024-12-22T04:22:02.454953Z",
     "start_time": "2024-12-22T04:22:02.439953Z"
    }
   },
   "source": [
    "BATCH_SIZE = 16\n",
    "\n",
    "# 创建数据加载器\n",
    "train_data_loader = create_data_loader(df_train, tokenizer, MAX_LEN, BATCH_SIZE)\n",
    "val_data_loader = create_data_loader(df_val, tokenizer, MAX_LEN, BATCH_SIZE)\n",
    "test_data_loader = create_data_loader(df_test, tokenizer, MAX_LEN, BATCH_SIZE)"
   ],
   "outputs": [],
   "execution_count": 28
  },
  {
   "cell_type": "code",
   "id": "c3287d2a-9ca2-427c-a6e5-7a53a51e02bf",
   "metadata": {
    "ExecuteTime": {
     "end_time": "2024-12-22T04:22:02.502952Z",
     "start_time": "2024-12-22T04:22:02.472953Z"
    }
   },
   "source": [
    "#检查第一批数据\n",
    "data = next(iter(train_data_loader))\n",
    "print(\"Input IDs shape:\", data['input_ids'].shape)\n",
    "print(\"Attention Mask shape:\", data['attention_mask'].shape)\n",
    "print(\"Labels shape:\", data['label'].shape)"
   ],
   "outputs": [
    {
     "name": "stdout",
     "output_type": "stream",
     "text": [
      "Input IDs shape: torch.Size([16, 128])\n",
      "Attention Mask shape: torch.Size([16, 128])\n",
      "Labels shape: torch.Size([16])\n"
     ]
    }
   ],
   "execution_count": 29
  },
  {
   "cell_type": "markdown",
   "id": "16cc0748-6693-4152-936c-9315a4f3b0d0",
   "metadata": {},
   "source": [
    "## Sentiment Classification"
   ]
  },
  {
   "cell_type": "code",
   "id": "ecb3a5f4-652c-46bf-89f8-224f8e401dca",
   "metadata": {
    "scrolled": true,
    "ExecuteTime": {
     "end_time": "2024-12-22T04:22:23.021295Z",
     "start_time": "2024-12-22T04:22:02.522953Z"
    }
   },
   "source": [
    "# 加载预训练的 BERT 模型用于分类任务\n",
    "model = BertForSequenceClassification.from_pretrained(PRE_TRAINED_MODEL_NAME, num_labels=2)\n",
    "\n",
    "# 查看模型结构\n",
    "print(model)"
   ],
   "outputs": [
    {
     "name": "stderr",
     "output_type": "stream",
     "text": [
      "Some weights of BertForSequenceClassification were not initialized from the model checkpoint at bert-base-chinese and are newly initialized: ['classifier.bias', 'classifier.weight']\n",
      "You should probably TRAIN this model on a down-stream task to be able to use it for predictions and inference.\n"
     ]
    },
    {
     "name": "stdout",
     "output_type": "stream",
     "text": [
      "BertForSequenceClassification(\n",
      "  (bert): BertModel(\n",
      "    (embeddings): BertEmbeddings(\n",
      "      (word_embeddings): Embedding(21128, 768, padding_idx=0)\n",
      "      (position_embeddings): Embedding(512, 768)\n",
      "      (token_type_embeddings): Embedding(2, 768)\n",
      "      (LayerNorm): LayerNorm((768,), eps=1e-12, elementwise_affine=True)\n",
      "      (dropout): Dropout(p=0.1, inplace=False)\n",
      "    )\n",
      "    (encoder): BertEncoder(\n",
      "      (layer): ModuleList(\n",
      "        (0-11): 12 x BertLayer(\n",
      "          (attention): BertAttention(\n",
      "            (self): BertSelfAttention(\n",
      "              (query): Linear(in_features=768, out_features=768, bias=True)\n",
      "              (key): Linear(in_features=768, out_features=768, bias=True)\n",
      "              (value): Linear(in_features=768, out_features=768, bias=True)\n",
      "              (dropout): Dropout(p=0.1, inplace=False)\n",
      "            )\n",
      "            (output): BertSelfOutput(\n",
      "              (dense): Linear(in_features=768, out_features=768, bias=True)\n",
      "              (LayerNorm): LayerNorm((768,), eps=1e-12, elementwise_affine=True)\n",
      "              (dropout): Dropout(p=0.1, inplace=False)\n",
      "            )\n",
      "          )\n",
      "          (intermediate): BertIntermediate(\n",
      "            (dense): Linear(in_features=768, out_features=3072, bias=True)\n",
      "            (intermediate_act_fn): GELUActivation()\n",
      "          )\n",
      "          (output): BertOutput(\n",
      "            (dense): Linear(in_features=3072, out_features=768, bias=True)\n",
      "            (LayerNorm): LayerNorm((768,), eps=1e-12, elementwise_affine=True)\n",
      "            (dropout): Dropout(p=0.1, inplace=False)\n",
      "          )\n",
      "        )\n",
      "      )\n",
      "    )\n",
      "    (pooler): BertPooler(\n",
      "      (dense): Linear(in_features=768, out_features=768, bias=True)\n",
      "      (activation): Tanh()\n",
      "    )\n",
      "  )\n",
      "  (dropout): Dropout(p=0.1, inplace=False)\n",
      "  (classifier): Linear(in_features=768, out_features=2, bias=True)\n",
      ")\n"
     ]
    }
   ],
   "execution_count": 30
  },
  {
   "cell_type": "code",
   "id": "9a7040b0-2a09-4951-9c40-d86507d57236",
   "metadata": {
    "ExecuteTime": {
     "end_time": "2024-12-22T04:22:23.052339Z",
     "start_time": "2024-12-22T04:22:23.038295Z"
    }
   },
   "source": [
    "class SentimentClassifier(nn.Module):\n",
    "    def __init__(self, n_classes):\n",
    "        super(SentimentClassifier, self).__init__()\n",
    "        self.bert = BertModel.from_pretrained(PRE_TRAINED_MODEL_NAME)  \n",
    "        self.drop = nn.Dropout(p=0.3)  # Dropout 防止过拟合\n",
    "        self.out = nn.Linear(self.bert.config.hidden_size, n_classes)  # 输出层\n",
    "\n",
    "    def forward(self, input_ids, attention_mask):\n",
    "        # 获取 BERT 的 pooled_output\n",
    "        _, pooled_output = self.bert(\n",
    "            input_ids=input_ids,\n",
    "            attention_mask=attention_mask,\n",
    "            return_dict=False  # 返回元组\n",
    "        )\n",
    "        output = self.drop(pooled_output)  # 加入 Dropout\n",
    "        return self.out(output)  # 全连接层输出\n"
   ],
   "outputs": [],
   "execution_count": 31
  },
  {
   "cell_type": "code",
   "id": "40576088-7351-492a-8d8b-460b58d3dc0c",
   "metadata": {
    "ExecuteTime": {
     "end_time": "2024-12-22T04:22:43.490203Z",
     "start_time": "2024-12-22T04:22:23.069295Z"
    }
   },
   "source": [
    "# 类别数量 (根据你的数据集定义)\n",
    "n_classes = 2 \n",
    "\n",
    "# 实例化模型\n",
    "model = SentimentClassifier(n_classes)\n",
    "\n",
    "# 设备设置\n",
    "device = torch.device(\"cuda\" if torch.cuda.is_available() else \"cpu\")\n",
    "model = model.to(device)\n"
   ],
   "outputs": [],
   "execution_count": 32
  },
  {
   "cell_type": "code",
   "id": "74071567-b8e7-48fd-98ad-83e7dd28543c",
   "metadata": {
    "ExecuteTime": {
     "end_time": "2024-12-22T04:22:43.521202Z",
     "start_time": "2024-12-22T04:22:43.507202Z"
    }
   },
   "source": [
    "#准备输入数据\n",
    "# 从 DataLoader 获取一批数据\n",
    "data = next(iter(train_data_loader))  \n",
    "input_ids = data['input_ids'].to(device)\n",
    "attention_mask = data['attention_mask'].to(device)\n",
    "\n",
    "# 检查输入数据形状\n",
    "print(\"Input IDs shape:\", input_ids.shape)  # (batch_size, seq_len)\n",
    "print(\"Attention Mask shape:\", attention_mask.shape)  # (batch_size, seq_len)\n"
   ],
   "outputs": [
    {
     "name": "stdout",
     "output_type": "stream",
     "text": [
      "Input IDs shape: torch.Size([16, 128])\n",
      "Attention Mask shape: torch.Size([16, 128])\n"
     ]
    }
   ],
   "execution_count": 33
  },
  {
   "cell_type": "code",
   "id": "42713360-64d9-4e20-83ab-be266d48df18",
   "metadata": {
    "ExecuteTime": {
     "end_time": "2024-12-22T04:22:45.554983Z",
     "start_time": "2024-12-22T04:22:44.629837Z"
    }
   },
   "source": [
    "# 通过 softmax 转换为概率分布\n",
    "probabilities = F.softmax(outputs, dim=1)\n",
    "\n",
    "print(\"Probabilities:\", probabilities)  # 每个类别的概率"
   ],
   "outputs": [
    {
     "ename": "NameError",
     "evalue": "name 'outputs' is not defined",
     "output_type": "error",
     "traceback": [
      "\u001B[1;31m---------------------------------------------------------------------------\u001B[0m",
      "\u001B[1;31mNameError\u001B[0m                                 Traceback (most recent call last)",
      "Cell \u001B[1;32mIn[34], line 2\u001B[0m\n\u001B[0;32m      1\u001B[0m \u001B[38;5;66;03m# 通过 softmax 转换为概率分布\u001B[39;00m\n\u001B[1;32m----> 2\u001B[0m probabilities \u001B[38;5;241m=\u001B[39m F\u001B[38;5;241m.\u001B[39msoftmax(\u001B[43moutputs\u001B[49m, dim\u001B[38;5;241m=\u001B[39m\u001B[38;5;241m1\u001B[39m)\n\u001B[0;32m      4\u001B[0m \u001B[38;5;28mprint\u001B[39m(\u001B[38;5;124m\"\u001B[39m\u001B[38;5;124mProbabilities:\u001B[39m\u001B[38;5;124m\"\u001B[39m, probabilities)\n",
      "\u001B[1;31mNameError\u001B[0m: name 'outputs' is not defined"
     ]
    }
   ],
   "execution_count": 34
  },
  {
   "cell_type": "markdown",
   "id": "39d7619f-6940-47d1-82b5-bc7a3b03a35e",
   "metadata": {},
   "source": [
    "## 模型训练\n"
   ]
  },
  {
   "cell_type": "code",
   "id": "8e8aaafb-3fd6-472c-b8e0-9ffaaa199f22",
   "metadata": {
    "ExecuteTime": {
     "end_time": "2024-12-22T04:24:04.633927Z",
     "start_time": "2024-12-22T04:24:04.621927Z"
    }
   },
   "source": [
    "EPOCHS = 1\n",
    "\n",
    "# 定义损失函数和优化器\n",
    "optimizer = AdamW(model.parameters(), lr=2e-5, correct_bias=False)  # 调整学习率（根据需要）\n",
    "loss_fn = nn.CrossEntropyLoss().to(device)\n",
    "\n",
    "# 计算总训练步数\n",
    "total_steps = len(train_data_loader) * EPOCHS\n",
    "\n",
    "# 计算 warmup steps\n",
    "warmup_steps = int(0.1 * total_steps)  # 设置 warmup 为总步数的 10%\n",
    "\n",
    "# 定义学习率调度器\n",
    "scheduler = get_linear_schedule_with_warmup(\n",
    "  optimizer,\n",
    "  num_warmup_steps=warmup_steps,        # 预热步数\n",
    "  num_training_steps=total_steps       # 总训练步数\n",
    ")"
   ],
   "outputs": [
    {
     "name": "stderr",
     "output_type": "stream",
     "text": [
      "C:\\soft\\anaconda\\envs\\llm\\lib\\site-packages\\transformers\\optimization.py:591: FutureWarning: This implementation of AdamW is deprecated and will be removed in a future version. Use the PyTorch implementation torch.optim.AdamW instead, or set `no_deprecation_warning=True` to disable this warning\n",
      "  warnings.warn(\n"
     ]
    }
   ],
   "execution_count": 35
  },
  {
   "cell_type": "code",
   "id": "cce8cbb4-d23f-4c46-bd16-b260dcc65c74",
   "metadata": {
    "ExecuteTime": {
     "end_time": "2024-12-22T04:24:06.816127Z",
     "start_time": "2024-12-22T04:24:06.803127Z"
    }
   },
   "source": [
    "def train_epoch(\n",
    "    model, \n",
    "    data_loader, \n",
    "    loss_fn, \n",
    "    optimizer, \n",
    "    device, \n",
    "    scheduler, \n",
    "    n_examples\n",
    "):\n",
    "    model = model.train()  # 切换到训练模式\n",
    "    losses = []\n",
    "    correct_predictions = 0\n",
    "\n",
    "    for d in data_loader:\n",
    "        input_ids = d[\"input_ids\"].to(device)\n",
    "        attention_mask = d[\"attention_mask\"].to(device)\n",
    "        targets = d[\"label\"].to(device).long()  # 确保标签是整数类型\n",
    "\n",
    "        # 模型前向传播\n",
    "        outputs = model(\n",
    "            input_ids=input_ids,\n",
    "            attention_mask=attention_mask\n",
    "        )\n",
    "\n",
    "        # 获取预测结果\n",
    "        _, preds = torch.max(outputs, dim=1)\n",
    "\n",
    "        # 计算损失\n",
    "        loss = loss_fn(outputs, targets)\n",
    "\n",
    "        # 统计正确预测数量\n",
    "        correct_predictions += torch.sum(preds == targets)\n",
    "        losses.append(loss.item())\n",
    "\n",
    "        # 反向传播\n",
    "        loss.backward()\n",
    "        nn.utils.clip_grad_norm_(model.parameters(), max_norm=1.0)  # 梯度裁剪\n",
    "        optimizer.step()\n",
    "        scheduler.step()\n",
    "        optimizer.zero_grad()\n",
    "\n",
    "    # 返回准确率和平均损失\n",
    "    return correct_predictions.double() / n_examples, np.mean(losses)\n"
   ],
   "outputs": [],
   "execution_count": 36
  },
  {
   "cell_type": "code",
   "id": "fa4ac9d6-4662-4bb6-acfd-a5f4bbbbdd7b",
   "metadata": {
    "ExecuteTime": {
     "end_time": "2024-12-22T04:27:05.962551Z",
     "start_time": "2024-12-22T04:27:05.943552Z"
    }
   },
   "source": [
    "def eval_model(model, data_loader, loss_fn, device, n_examples):\n",
    "    model = model.eval()  # 切换到评估模式\n",
    "    losses = []\n",
    "    correct_predictions = 0\n",
    "\n",
    "    with torch.no_grad():  # 禁用梯度计算\n",
    "        for d in data_loader:\n",
    "            input_ids = d[\"input_ids\"].to(device)\n",
    "            attention_mask = d[\"attention_mask\"].to(device)\n",
    "            targets = d[\"label\"].to(device).long()  # 确保标签是整数类型\n",
    "\n",
    "            # 前向传播\n",
    "            outputs = model(\n",
    "                input_ids=input_ids,\n",
    "                attention_mask=attention_mask\n",
    "            )\n",
    "            _, preds = torch.max(outputs, dim=1)  # 获取预测结果\n",
    "\n",
    "            # 计算损失\n",
    "            loss = loss_fn(outputs, targets)\n",
    "\n",
    "            # 统计正确预测数量\n",
    "            correct_predictions += torch.sum(preds == targets)\n",
    "            losses.append(loss.item())\n",
    "\n",
    "    # 返回准确率和平均损失\n",
    "    return correct_predictions.double() / n_examples, np.mean(losses)\n"
   ],
   "outputs": [],
   "execution_count": 42
  },
  {
   "cell_type": "code",
   "id": "aff668bc-4426-4b6b-b3b8-9c5c43b31ecf",
   "metadata": {
    "jupyter": {
     "is_executing": true
    },
    "ExecuteTime": {
     "start_time": "2024-12-22T04:31:18.802289Z"
    }
   },
   "source": [
    "import time\n",
    "from collections import defaultdict\n",
    "import torch\n",
    "\n",
    "history = defaultdict(list)\n",
    "best_accuracy = 0\n",
    "\n",
    "# 定义总样本数\n",
    "n_examples = len(df_train)\n",
    "\n",
    "# 开始训练\n",
    "model = model.train()  # 确保模型处于训练模式\n",
    "\n",
    "print(f'Starting Training...')\n",
    "\n",
    "batch_count = 0  # 用于统计批次数\n",
    "total_correct_predictions = 0  # 全局正确预测数\n",
    "total_loss = 0  # 全局累积损失\n",
    "\n",
    "for d in train_data_loader:  # 遍历数据加载器的每个批次\n",
    "    batch_count += 1\n",
    "    input_ids = d[\"input_ids\"].to(device)\n",
    "    attention_mask = d[\"attention_mask\"].to(device)\n",
    "    targets = d[\"label\"].to(device).long()\n",
    "\n",
    "    # 前向传播\n",
    "    outputs = model(\n",
    "        input_ids=input_ids,\n",
    "        attention_mask=attention_mask\n",
    "    )\n",
    "    time.sleep(0.1)\n",
    "\n",
    "    # 获取预测结果\n",
    "    _, preds = torch.max(outputs, dim=1)\n",
    "    loss = loss_fn(outputs, targets)\n",
    "\n",
    "    # 统计当前批次的正确预测数和准确率\n",
    "    correct_predictions = torch.sum(preds == targets).item()\n",
    "    accuracy = correct_predictions / len(targets)  # 当前批次的准确率\n",
    "\n",
    "    # 更新全局统计\n",
    "    total_correct_predictions += correct_predictions  # 累积正确预测数\n",
    "    total_loss += loss.item()  # 累积损失\n",
    "\n",
    "    # 反向传播\n",
    "    loss.backward()\n",
    "    nn.utils.clip_grad_norm_(model.parameters(), max_norm=1.0)  # 梯度裁剪\n",
    "    optimizer.step()\n",
    "    scheduler.step()\n",
    "    optimizer.zero_grad()\n",
    "\n",
    "    # 控制打印频率，每 10 个批次打印一次\n",
    "    if batch_count % 10 == 0:\n",
    "        print(f\"Batch {batch_count}/{len(train_data_loader)}: Loss = {loss.item():.4f}, Accuracy = {accuracy:.4f}\")\n",
    "\n",
    "# 计算全局准确率和平均损失\n",
    "overall_accuracy = total_correct_predictions / n_examples\n",
    "average_loss = total_loss / len(train_data_loader)\n",
    "\n",
    "# 打印全局统计结果\n",
    "print(f\"\\nTraining Complete!\")\n",
    "print(f\"Overall Training Accuracy: {overall_accuracy:.4f}\")\n",
    "print(f\"Overall Training Loss: {average_loss:.4f}\")\n",
    "\n",
    "# 保存历史记录\n",
    "history['train_loss'].append(average_loss)\n",
    "history['train_acc'].append(overall_accuracy)\n"
   ],
   "outputs": [
    {
     "name": "stdout",
     "output_type": "stream",
     "text": [
      "Starting Training...\n",
      "Batch 10/5685: Loss = 0.6808, Accuracy = 0.5000\n",
      "Batch 20/5685: Loss = 0.6968, Accuracy = 0.6250\n",
      "Batch 30/5685: Loss = 0.7351, Accuracy = 0.5000\n",
      "Batch 40/5685: Loss = 0.7934, Accuracy = 0.5625\n",
      "Batch 50/5685: Loss = 0.6216, Accuracy = 0.6875\n"
     ]
    }
   ],
   "execution_count": null
  },
  {
   "cell_type": "code",
   "execution_count": 82,
   "id": "450cd830-8f0e-41c6-bec6-259bfe4d7caf",
   "metadata": {},
   "outputs": [
    {
     "data": {
      "text/plain": [
       "defaultdict(list,\n",
       "            {'train_loss': [0.711976214637857],\n",
       "             'train_acc': [0.5009455744914788]})"
      ]
     },
     "execution_count": 82,
     "metadata": {},
     "output_type": "execute_result"
    }
   ],
   "source": [
    "history"
   ]
  },
  {
   "cell_type": "code",
   "id": "f02a3fdc-04f7-4234-88a9-7d2703d5537c",
   "metadata": {
    "ExecuteTime": {
     "end_time": "2024-12-22T04:27:13.940358Z",
     "start_time": "2024-12-22T04:27:13.934358Z"
    }
   },
   "source": [
    "# 可视化训练损失和验证损失\n",
    "def plot_training_history(history):\n",
    "    \"\"\"\n",
    "    绘制训练和验证的损失及准确率曲线\n",
    "    :param history: 字典形式的训练历史数据\n",
    "    \"\"\"\n",
    "    # 创建一个 2x1 的子图布局\n",
    "    fig, (ax1, ax2) = plt.subplots(2, 1, figsize=(10, 10))\n",
    "\n",
    "    # 绘制损失曲线\n",
    "    ax1.plot(history['train_loss'], label='Train Loss', color='blue', marker='o')\n",
    "    if 'val_loss' in history:\n",
    "        ax1.plot(history['val_loss'], label='Validation Loss', color='orange', marker='o')\n",
    "    ax1.set_title('Loss Over Batches/Epochs', fontsize=14)\n",
    "    ax1.set_xlabel('Epochs', fontsize=12)\n",
    "    ax1.set_ylabel('Loss', fontsize=12)\n",
    "    ax1.legend(loc='upper right')\n",
    "    ax1.grid(alpha=0.5)\n",
    "\n",
    "    # 绘制准确率曲线\n",
    "    ax2.plot(history['train_acc'], label='Train Accuracy', color='blue', marker='o')\n",
    "    if 'val_acc' in history:\n",
    "        ax2.plot(history['val_acc'], label='Validation Accuracy', color='orange', marker='o')\n",
    "    ax2.set_title('Accuracy Over Batches/Epochs', fontsize=14)\n",
    "    ax2.set_xlabel('Epochs', fontsize=12)\n",
    "    ax2.set_ylabel('Accuracy', fontsize=12)\n",
    "    ax2.legend(loc='lower right')\n",
    "    ax2.grid(alpha=0.5)\n",
    "\n",
    "    # 调整布局并显示图形\n",
    "    plt.tight_layout()\n",
    "    plt.show()\n"
   ],
   "outputs": [],
   "execution_count": 44
  },
  {
   "cell_type": "code",
   "execution_count": null,
   "id": "c2d0ac30-afd8-4e4b-8214-654c5edf5b66",
   "metadata": {},
   "outputs": [],
   "source": []
  }
 ],
 "metadata": {
  "kernelspec": {
   "display_name": "Python 3 (ipykernel)",
   "language": "python",
   "name": "python3"
  },
  "language_info": {
   "codemirror_mode": {
    "name": "ipython",
    "version": 3
   },
   "file_extension": ".py",
   "mimetype": "text/x-python",
   "name": "python",
   "nbconvert_exporter": "python",
   "pygments_lexer": "ipython3",
   "version": "3.10.15"
  }
 },
 "nbformat": 4,
 "nbformat_minor": 5
}
